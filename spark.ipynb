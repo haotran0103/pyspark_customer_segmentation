{
  "nbformat": 4,
  "nbformat_minor": 0,
  "metadata": {
    "colab": {
      "provenance": []
    },
    "kernelspec": {
      "name": "python3",
      "display_name": "Python 3"
    },
    "language_info": {
      "name": "python"
    }
  },
  "cells": [
    {
      "cell_type": "code",
      "source": [
        "!pip install pyspark"
      ],
      "metadata": {
        "colab": {
          "base_uri": "https://localhost:8080/"
        },
        "id": "QDVSrVPKYqGu",
        "outputId": "703e1ccc-7708-4a25-f9dd-0e582317b457"
      },
      "execution_count": 52,
      "outputs": [
        {
          "output_type": "stream",
          "name": "stdout",
          "text": [
            "Requirement already satisfied: pyspark in /usr/local/lib/python3.10/dist-packages (3.4.1)\n",
            "Requirement already satisfied: py4j==0.10.9.7 in /usr/local/lib/python3.10/dist-packages (from pyspark) (0.10.9.7)\n"
          ]
        }
      ]
    },
    {
      "cell_type": "code",
      "execution_count": 53,
      "metadata": {
        "id": "DBOSjd7eRNec"
      },
      "outputs": [],
      "source": [
        "from pyspark.sql import SparkSession\n",
        "\n",
        "spark = SparkSession \\\n",
        "    .builder \\\n",
        "    .appName(\"spark customer segmentation\") \\\n",
        "    .config(\"spark.some.config.option\", \"some-value\") \\\n",
        "    .getOrCreate()"
      ]
    },
    {
      "cell_type": "code",
      "source": [
        "df = spark.read.format('com.databricks.spark.csv').options(header ='true', inferschema = 'true').load('/content/drive/MyDrive/Colab Notebooks/Spark/phân loại khách hàng với spark/Train.csv',header = True)\n",
        "df.show()"
      ],
      "metadata": {
        "colab": {
          "base_uri": "https://localhost:8080/"
        },
        "id": "m9GSgYZUYazM",
        "outputId": "6d47d448-9b0b-48a1-c317-3cbcaa304b44"
      },
      "execution_count": 54,
      "outputs": [
        {
          "output_type": "stream",
          "name": "stdout",
          "text": [
            "+------+------+------------+---+---------+-------------+---------------+--------------+-----------+-----+------------+\n",
            "|    ID|Gender|Ever_Married|Age|Graduated|   Profession|Work_Experience|Spending_Score|Family_Size|Var_1|Segmentation|\n",
            "+------+------+------------+---+---------+-------------+---------------+--------------+-----------+-----+------------+\n",
            "|462809|  Male|          No| 22|       No|   Healthcare|            1.0|           Low|        4.0|Cat_4|           D|\n",
            "|462643|Female|         Yes| 38|      Yes|     Engineer|           null|       Average|        3.0|Cat_4|           A|\n",
            "|466315|Female|         Yes| 67|      Yes|     Engineer|            1.0|           Low|        1.0|Cat_6|           B|\n",
            "|461735|  Male|         Yes| 67|      Yes|       Lawyer|            0.0|          High|        2.0|Cat_6|           B|\n",
            "|462669|Female|         Yes| 40|      Yes|Entertainment|           null|          High|        6.0|Cat_6|           A|\n",
            "|461319|  Male|         Yes| 56|       No|       Artist|            0.0|       Average|        2.0|Cat_6|           C|\n",
            "|460156|  Male|          No| 32|      Yes|   Healthcare|            1.0|           Low|        3.0|Cat_6|           C|\n",
            "|464347|Female|          No| 33|      Yes|   Healthcare|            1.0|           Low|        3.0|Cat_6|           D|\n",
            "|465015|Female|         Yes| 61|      Yes|     Engineer|            0.0|           Low|        3.0|Cat_7|           D|\n",
            "|465176|Female|         Yes| 55|      Yes|       Artist|            1.0|       Average|        4.0|Cat_6|           C|\n",
            "|464041|Female|          No| 26|      Yes|     Engineer|            1.0|           Low|        3.0|Cat_6|           A|\n",
            "|464942|  Male|          No| 19|       No|   Healthcare|            4.0|           Low|        4.0|Cat_4|           D|\n",
            "|461230|Female|          No| 19|       No|    Executive|            0.0|           Low|       null|Cat_3|           D|\n",
            "|459573|  Male|         Yes| 70|       No|       Lawyer|           null|           Low|        1.0|Cat_6|           A|\n",
            "|460849|Female|         Yes| 58|       No|       Doctor|            0.0|           Low|        1.0|Cat_3|           B|\n",
            "|460563|Female|          No| 41|       No|   Healthcare|            1.0|           Low|        2.0|Cat_1|           C|\n",
            "|466865|Female|          No| 32|       No|    Homemaker|            9.0|           Low|        5.0|Cat_3|           D|\n",
            "|461644|  Male|          No| 31|       No|   Healthcare|            1.0|           Low|        6.0|Cat_6|           B|\n",
            "|466772|  Male|         Yes| 58|      Yes|Entertainment|            1.0|       Average|        4.0|Cat_6|           B|\n",
            "|464291|Female|         Yes| 79|      Yes|       Artist|            0.0|          High|        1.0|Cat_6|           C|\n",
            "+------+------+------------+---+---------+-------------+---------------+--------------+-----------+-----+------------+\n",
            "only showing top 20 rows\n",
            "\n"
          ]
        }
      ]
    },
    {
      "cell_type": "code",
      "source": [
        "df.printSchema()"
      ],
      "metadata": {
        "colab": {
          "base_uri": "https://localhost:8080/"
        },
        "id": "h-gReqL0ZovZ",
        "outputId": "630f2643-c374-4172-a816-d5875fb4b724"
      },
      "execution_count": 55,
      "outputs": [
        {
          "output_type": "stream",
          "name": "stdout",
          "text": [
            "root\n",
            " |-- ID: integer (nullable = true)\n",
            " |-- Gender: string (nullable = true)\n",
            " |-- Ever_Married: string (nullable = true)\n",
            " |-- Age: integer (nullable = true)\n",
            " |-- Graduated: string (nullable = true)\n",
            " |-- Profession: string (nullable = true)\n",
            " |-- Work_Experience: double (nullable = true)\n",
            " |-- Spending_Score: string (nullable = true)\n",
            " |-- Family_Size: double (nullable = true)\n",
            " |-- Var_1: string (nullable = true)\n",
            " |-- Segmentation: string (nullable = true)\n",
            "\n"
          ]
        }
      ]
    },
    {
      "cell_type": "code",
      "source": [
        "df.columns"
      ],
      "metadata": {
        "colab": {
          "base_uri": "https://localhost:8080/"
        },
        "id": "hdqkxLswaMsF",
        "outputId": "987f846d-eb1a-4fb4-f686-202f0316bb0c"
      },
      "execution_count": 56,
      "outputs": [
        {
          "output_type": "execute_result",
          "data": {
            "text/plain": [
              "['ID',\n",
              " 'Gender',\n",
              " 'Ever_Married',\n",
              " 'Age',\n",
              " 'Graduated',\n",
              " 'Profession',\n",
              " 'Work_Experience',\n",
              " 'Spending_Score',\n",
              " 'Family_Size',\n",
              " 'Var_1',\n",
              " 'Segmentation']"
            ]
          },
          "metadata": {},
          "execution_count": 56
        }
      ]
    },
    {
      "cell_type": "code",
      "source": [
        "from pyspark.sql.functions import col\n",
        "\n",
        "columns_to_check = df.columns\n",
        "\n",
        "for col_name in columns_to_check:\n",
        "    null_count = df.filter(col(col_name).isNull()).count()\n",
        "    print(f\"Column '{col_name}' has {null_count} null value(s).\")\n",
        "\n",
        "    if \"Age\" in col_name or \"Family_Size\" in col_name or \"Work_Experience\" in col_name:\n",
        "        df = df.fillna({col_name: 0})\n",
        "    else:\n",
        "        df = df.fillna({col_name: \"Unknown\"})\n",
        "\n",
        "df.show()"
      ],
      "metadata": {
        "colab": {
          "base_uri": "https://localhost:8080/"
        },
        "id": "mGazPMC8s6N8",
        "outputId": "b28d7dd8-c04c-4250-f77b-448b4efbc55e"
      },
      "execution_count": 57,
      "outputs": [
        {
          "output_type": "stream",
          "name": "stdout",
          "text": [
            "Column 'ID' has 0 null value(s).\n",
            "Column 'Gender' has 0 null value(s).\n",
            "Column 'Ever_Married' has 140 null value(s).\n",
            "Column 'Age' has 0 null value(s).\n",
            "Column 'Graduated' has 78 null value(s).\n",
            "Column 'Profession' has 124 null value(s).\n",
            "Column 'Work_Experience' has 829 null value(s).\n",
            "Column 'Spending_Score' has 0 null value(s).\n",
            "Column 'Family_Size' has 335 null value(s).\n",
            "Column 'Var_1' has 76 null value(s).\n",
            "Column 'Segmentation' has 0 null value(s).\n",
            "+------+------+------------+---+---------+-------------+---------------+--------------+-----------+-----+------------+\n",
            "|    ID|Gender|Ever_Married|Age|Graduated|   Profession|Work_Experience|Spending_Score|Family_Size|Var_1|Segmentation|\n",
            "+------+------+------------+---+---------+-------------+---------------+--------------+-----------+-----+------------+\n",
            "|462809|  Male|          No| 22|       No|   Healthcare|            1.0|           Low|        4.0|Cat_4|           D|\n",
            "|462643|Female|         Yes| 38|      Yes|     Engineer|            0.0|       Average|        3.0|Cat_4|           A|\n",
            "|466315|Female|         Yes| 67|      Yes|     Engineer|            1.0|           Low|        1.0|Cat_6|           B|\n",
            "|461735|  Male|         Yes| 67|      Yes|       Lawyer|            0.0|          High|        2.0|Cat_6|           B|\n",
            "|462669|Female|         Yes| 40|      Yes|Entertainment|            0.0|          High|        6.0|Cat_6|           A|\n",
            "|461319|  Male|         Yes| 56|       No|       Artist|            0.0|       Average|        2.0|Cat_6|           C|\n",
            "|460156|  Male|          No| 32|      Yes|   Healthcare|            1.0|           Low|        3.0|Cat_6|           C|\n",
            "|464347|Female|          No| 33|      Yes|   Healthcare|            1.0|           Low|        3.0|Cat_6|           D|\n",
            "|465015|Female|         Yes| 61|      Yes|     Engineer|            0.0|           Low|        3.0|Cat_7|           D|\n",
            "|465176|Female|         Yes| 55|      Yes|       Artist|            1.0|       Average|        4.0|Cat_6|           C|\n",
            "|464041|Female|          No| 26|      Yes|     Engineer|            1.0|           Low|        3.0|Cat_6|           A|\n",
            "|464942|  Male|          No| 19|       No|   Healthcare|            4.0|           Low|        4.0|Cat_4|           D|\n",
            "|461230|Female|          No| 19|       No|    Executive|            0.0|           Low|        0.0|Cat_3|           D|\n",
            "|459573|  Male|         Yes| 70|       No|       Lawyer|            0.0|           Low|        1.0|Cat_6|           A|\n",
            "|460849|Female|         Yes| 58|       No|       Doctor|            0.0|           Low|        1.0|Cat_3|           B|\n",
            "|460563|Female|          No| 41|       No|   Healthcare|            1.0|           Low|        2.0|Cat_1|           C|\n",
            "|466865|Female|          No| 32|       No|    Homemaker|            9.0|           Low|        5.0|Cat_3|           D|\n",
            "|461644|  Male|          No| 31|       No|   Healthcare|            1.0|           Low|        6.0|Cat_6|           B|\n",
            "|466772|  Male|         Yes| 58|      Yes|Entertainment|            1.0|       Average|        4.0|Cat_6|           B|\n",
            "|464291|Female|         Yes| 79|      Yes|       Artist|            0.0|          High|        1.0|Cat_6|           C|\n",
            "+------+------+------------+---+---------+-------------+---------------+--------------+-----------+-----+------------+\n",
            "only showing top 20 rows\n",
            "\n"
          ]
        }
      ]
    },
    {
      "cell_type": "code",
      "source": [
        "from pyspark.ml.feature import StringIndexer"
      ],
      "metadata": {
        "id": "OIIjfAPFcGAr"
      },
      "execution_count": 58,
      "outputs": []
    },
    {
      "cell_type": "code",
      "source": [
        "df_r = StringIndexer(inputCols=['Gender','Ever_Married','Graduated','Profession','Spending_Score','Var_1'],\n",
        "                        outputCols=['Gender_index','Ever_Married_index','Graduated_index','Profession_index',\n",
        "                                    'Spending_Score_index','Var_1_index']).fit(df).transform(df)\n",
        "\n",
        "df_r.show(5)"
      ],
      "metadata": {
        "colab": {
          "base_uri": "https://localhost:8080/"
        },
        "id": "YdPKK20ofc82",
        "outputId": "eb4f7650-c6d1-4053-c9a7-5903973cf501"
      },
      "execution_count": 59,
      "outputs": [
        {
          "output_type": "stream",
          "name": "stdout",
          "text": [
            "+------+------+------------+---+---------+-------------+---------------+--------------+-----------+-----+------------+------------+------------------+---------------+----------------+--------------------+-----------+\n",
            "|    ID|Gender|Ever_Married|Age|Graduated|   Profession|Work_Experience|Spending_Score|Family_Size|Var_1|Segmentation|Gender_index|Ever_Married_index|Graduated_index|Profession_index|Spending_Score_index|Var_1_index|\n",
            "+------+------+------------+---+---------+-------------+---------------+--------------+-----------+-----+------------+------------+------------------+---------------+----------------+--------------------+-----------+\n",
            "|462809|  Male|          No| 22|       No|   Healthcare|            1.0|           Low|        4.0|Cat_4|           D|         0.0|               1.0|            1.0|             1.0|                 0.0|        1.0|\n",
            "|462643|Female|         Yes| 38|      Yes|     Engineer|            0.0|       Average|        3.0|Cat_4|           A|         1.0|               0.0|            0.0|             3.0|                 1.0|        1.0|\n",
            "|466315|Female|         Yes| 67|      Yes|     Engineer|            1.0|           Low|        1.0|Cat_6|           B|         1.0|               0.0|            0.0|             3.0|                 0.0|        0.0|\n",
            "|461735|  Male|         Yes| 67|      Yes|       Lawyer|            0.0|          High|        2.0|Cat_6|           B|         0.0|               0.0|            0.0|             5.0|                 2.0|        0.0|\n",
            "|462669|Female|         Yes| 40|      Yes|Entertainment|            0.0|          High|        6.0|Cat_6|           A|         1.0|               0.0|            0.0|             2.0|                 2.0|        0.0|\n",
            "+------+------+------------+---+---------+-------------+---------------+--------------+-----------+-----+------------+------------+------------------+---------------+----------------+--------------------+-----------+\n",
            "only showing top 5 rows\n",
            "\n"
          ]
        }
      ]
    },
    {
      "cell_type": "code",
      "source": [
        "df_r.columns"
      ],
      "metadata": {
        "colab": {
          "base_uri": "https://localhost:8080/"
        },
        "id": "H4-ajV3JhSE8",
        "outputId": "115a140d-80ea-485d-da5d-e1293dcafa33"
      },
      "execution_count": 60,
      "outputs": [
        {
          "output_type": "execute_result",
          "data": {
            "text/plain": [
              "['ID',\n",
              " 'Gender',\n",
              " 'Ever_Married',\n",
              " 'Age',\n",
              " 'Graduated',\n",
              " 'Profession',\n",
              " 'Work_Experience',\n",
              " 'Spending_Score',\n",
              " 'Family_Size',\n",
              " 'Var_1',\n",
              " 'Segmentation',\n",
              " 'Gender_index',\n",
              " 'Ever_Married_index',\n",
              " 'Graduated_index',\n",
              " 'Profession_index',\n",
              " 'Spending_Score_index',\n",
              " 'Var_1_index']"
            ]
          },
          "metadata": {},
          "execution_count": 60
        }
      ]
    },
    {
      "cell_type": "code",
      "source": [
        "output_r = StringIndexer(inputCol='Segmentation',outputCol='index_label').fit(df_r).transform(df_r)\n",
        "output_r.show(5)"
      ],
      "metadata": {
        "colab": {
          "base_uri": "https://localhost:8080/"
        },
        "id": "epmilekTjUHf",
        "outputId": "184575ea-2115-4255-93f8-59ba013bf8e9"
      },
      "execution_count": 61,
      "outputs": [
        {
          "output_type": "stream",
          "name": "stdout",
          "text": [
            "+------+------+------------+---+---------+-------------+---------------+--------------+-----------+-----+------------+------------+------------------+---------------+----------------+--------------------+-----------+-----------+\n",
            "|    ID|Gender|Ever_Married|Age|Graduated|   Profession|Work_Experience|Spending_Score|Family_Size|Var_1|Segmentation|Gender_index|Ever_Married_index|Graduated_index|Profession_index|Spending_Score_index|Var_1_index|index_label|\n",
            "+------+------+------------+---+---------+-------------+---------------+--------------+-----------+-----+------------+------------+------------------+---------------+----------------+--------------------+-----------+-----------+\n",
            "|462809|  Male|          No| 22|       No|   Healthcare|            1.0|           Low|        4.0|Cat_4|           D|         0.0|               1.0|            1.0|             1.0|                 0.0|        1.0|        0.0|\n",
            "|462643|Female|         Yes| 38|      Yes|     Engineer|            0.0|       Average|        3.0|Cat_4|           A|         1.0|               0.0|            0.0|             3.0|                 1.0|        1.0|        1.0|\n",
            "|466315|Female|         Yes| 67|      Yes|     Engineer|            1.0|           Low|        1.0|Cat_6|           B|         1.0|               0.0|            0.0|             3.0|                 0.0|        0.0|        3.0|\n",
            "|461735|  Male|         Yes| 67|      Yes|       Lawyer|            0.0|          High|        2.0|Cat_6|           B|         0.0|               0.0|            0.0|             5.0|                 2.0|        0.0|        3.0|\n",
            "|462669|Female|         Yes| 40|      Yes|Entertainment|            0.0|          High|        6.0|Cat_6|           A|         1.0|               0.0|            0.0|             2.0|                 2.0|        0.0|        1.0|\n",
            "+------+------+------------+---+---------+-------------+---------------+--------------+-----------+-----+------------+------------+------------------+---------------+----------------+--------------------+-----------+-----------+\n",
            "only showing top 5 rows\n",
            "\n"
          ]
        }
      ]
    },
    {
      "cell_type": "code",
      "source": [
        "from pyspark.ml.feature import VectorAssembler\n",
        "\n",
        "output = VectorAssembler(inputCols=['Gender_index', 'Ever_Married_index', 'Age', 'Graduated_index',\n",
        "                                               'Profession_index', 'Work_Experience', 'Spending_Score_index',\n",
        "                                               'Family_Size', 'Var_1_index'],\n",
        "                                    outputCol='feature',\n",
        "                                    handleInvalid=\"keep\").transform(output_r)\n"
      ],
      "metadata": {
        "id": "j63DA4Avg1VG"
      },
      "execution_count": 62,
      "outputs": []
    },
    {
      "cell_type": "code",
      "source": [
        "output.select('feature').show()"
      ],
      "metadata": {
        "colab": {
          "base_uri": "https://localhost:8080/"
        },
        "id": "jqz53oUYlxV1",
        "outputId": "9692fd03-7b53-4fdb-f22a-2254644d7cda"
      },
      "execution_count": 63,
      "outputs": [
        {
          "output_type": "stream",
          "name": "stdout",
          "text": [
            "+--------------------+\n",
            "|             feature|\n",
            "+--------------------+\n",
            "|[0.0,1.0,22.0,1.0...|\n",
            "|[1.0,0.0,38.0,0.0...|\n",
            "|[1.0,0.0,67.0,0.0...|\n",
            "|(9,[2,4,6,7],[67....|\n",
            "|[1.0,0.0,40.0,0.0...|\n",
            "|(9,[2,3,6,7],[56....|\n",
            "|[0.0,1.0,32.0,0.0...|\n",
            "|[1.0,1.0,33.0,0.0...|\n",
            "|[1.0,0.0,61.0,0.0...|\n",
            "|[1.0,0.0,55.0,0.0...|\n",
            "|[1.0,1.0,26.0,0.0...|\n",
            "|[0.0,1.0,19.0,1.0...|\n",
            "|[1.0,1.0,19.0,1.0...|\n",
            "|(9,[2,3,4,7],[70....|\n",
            "|[1.0,0.0,58.0,1.0...|\n",
            "|[1.0,1.0,41.0,1.0...|\n",
            "|[1.0,1.0,32.0,1.0...|\n",
            "|[0.0,1.0,31.0,1.0...|\n",
            "|[0.0,0.0,58.0,0.0...|\n",
            "|(9,[0,2,6,7],[1.0...|\n",
            "+--------------------+\n",
            "only showing top 20 rows\n",
            "\n"
          ]
        }
      ]
    },
    {
      "cell_type": "code",
      "source": [
        "final_data = output.select('feature','index_label')\n",
        "final_data.show()"
      ],
      "metadata": {
        "colab": {
          "base_uri": "https://localhost:8080/"
        },
        "id": "ok7rwFKJkOPQ",
        "outputId": "bec179cd-bd4a-4bd5-c954-9772e4dfc613"
      },
      "execution_count": 64,
      "outputs": [
        {
          "output_type": "stream",
          "name": "stdout",
          "text": [
            "+--------------------+-----------+\n",
            "|             feature|index_label|\n",
            "+--------------------+-----------+\n",
            "|[0.0,1.0,22.0,1.0...|        0.0|\n",
            "|[1.0,0.0,38.0,0.0...|        1.0|\n",
            "|[1.0,0.0,67.0,0.0...|        3.0|\n",
            "|(9,[2,4,6,7],[67....|        3.0|\n",
            "|[1.0,0.0,40.0,0.0...|        1.0|\n",
            "|(9,[2,3,6,7],[56....|        2.0|\n",
            "|[0.0,1.0,32.0,0.0...|        2.0|\n",
            "|[1.0,1.0,33.0,0.0...|        0.0|\n",
            "|[1.0,0.0,61.0,0.0...|        0.0|\n",
            "|[1.0,0.0,55.0,0.0...|        2.0|\n",
            "|[1.0,1.0,26.0,0.0...|        1.0|\n",
            "|[0.0,1.0,19.0,1.0...|        0.0|\n",
            "|[1.0,1.0,19.0,1.0...|        0.0|\n",
            "|(9,[2,3,4,7],[70....|        1.0|\n",
            "|[1.0,0.0,58.0,1.0...|        3.0|\n",
            "|[1.0,1.0,41.0,1.0...|        2.0|\n",
            "|[1.0,1.0,32.0,1.0...|        0.0|\n",
            "|[0.0,1.0,31.0,1.0...|        3.0|\n",
            "|[0.0,0.0,58.0,0.0...|        3.0|\n",
            "|(9,[0,2,6,7],[1.0...|        2.0|\n",
            "+--------------------+-----------+\n",
            "only showing top 20 rows\n",
            "\n"
          ]
        }
      ]
    },
    {
      "cell_type": "code",
      "source": [
        "(trainingData, testData) = final_data.randomSplit([0.8, 0.2])\n",
        "trainingData.show(5)\n",
        "testData.show(5)"
      ],
      "metadata": {
        "colab": {
          "base_uri": "https://localhost:8080/"
        },
        "id": "pmt034VOplni",
        "outputId": "560a6555-b12c-44fd-90b5-e1d0d9c868a7"
      },
      "execution_count": 65,
      "outputs": [
        {
          "output_type": "stream",
          "name": "stdout",
          "text": [
            "+--------------------+-----------+\n",
            "|             feature|index_label|\n",
            "+--------------------+-----------+\n",
            "|(9,[0,1,2],[1.0,1...|        3.0|\n",
            "|(9,[0,1,2],[1.0,1...|        3.0|\n",
            "|(9,[0,1,2,3],[1.0...|        2.0|\n",
            "|(9,[0,1,2,4],[1.0...|        0.0|\n",
            "|(9,[0,1,2,4],[1.0...|        0.0|\n",
            "+--------------------+-----------+\n",
            "only showing top 5 rows\n",
            "\n",
            "+--------------------+-----------+\n",
            "|             feature|index_label|\n",
            "+--------------------+-----------+\n",
            "|(9,[0,1,2],[1.0,1...|        1.0|\n",
            "|(9,[0,1,2,4],[1.0...|        0.0|\n",
            "|(9,[0,1,2,5],[1.0...|        1.0|\n",
            "|(9,[0,1,2,7],[1.0...|        1.0|\n",
            "|(9,[0,1,2,7],[1.0...|        1.0|\n",
            "+--------------------+-----------+\n",
            "only showing top 5 rows\n",
            "\n"
          ]
        }
      ]
    },
    {
      "cell_type": "code",
      "source": [],
      "metadata": {
        "id": "SM0_SuMspB24"
      },
      "execution_count": 66,
      "outputs": []
    },
    {
      "cell_type": "code",
      "source": [
        "\n",
        "from pyspark.ml.classification import DecisionTreeClassifier\n",
        "\n",
        "dTree = DecisionTreeClassifier(labelCol='index_label', featuresCol='feature')"
      ],
      "metadata": {
        "id": "PdIyf85Ensbq"
      },
      "execution_count": 72,
      "outputs": []
    },
    {
      "cell_type": "code",
      "source": [
        "from pyspark.ml import Pipeline\n",
        "\n",
        "pipeline = Pipeline(stages=[dTree])\n",
        "\n",
        "# Fit the pipeline to the training data\n",
        "model = pipeline.fit(output)"
      ],
      "metadata": {
        "id": "89kXSDw2yXd5"
      },
      "execution_count": 73,
      "outputs": []
    },
    {
      "cell_type": "code",
      "source": [
        "predictions = model.transform(testData)\n",
        "predictions.show()"
      ],
      "metadata": {
        "colab": {
          "base_uri": "https://localhost:8080/"
        },
        "id": "AercxxGkpfya",
        "outputId": "46a0659e-1ade-4500-c157-8d404c7830bd"
      },
      "execution_count": 82,
      "outputs": [
        {
          "output_type": "stream",
          "name": "stdout",
          "text": [
            "+--------------------+-----------+--------------------+--------------------+----------+\n",
            "|             feature|index_label|       rawPrediction|         probability|prediction|\n",
            "+--------------------+-----------+--------------------+--------------------+----------+\n",
            "|(9,[0,1,2],[1.0,1...|        1.0|[53.0,115.0,35.0,...|[0.21544715447154...|       1.0|\n",
            "|(9,[0,1,2,4],[1.0...|        0.0|[190.0,59.0,25.0,...|[0.65517241379310...|       0.0|\n",
            "|(9,[0,1,2,5],[1.0...|        1.0|[84.0,396.0,273.0...|[0.07041072925398...|       3.0|\n",
            "|(9,[0,1,2,7],[1.0...|        1.0|[53.0,115.0,35.0,...|[0.21544715447154...|       1.0|\n",
            "|(9,[0,1,2,7],[1.0...|        1.0|[53.0,115.0,35.0,...|[0.21544715447154...|       1.0|\n",
            "|(9,[0,1,2,7],[1.0...|        1.0|[53.0,115.0,35.0,...|[0.21544715447154...|       1.0|\n",
            "|(9,[0,1,2,7],[1.0...|        1.0|[53.0,115.0,35.0,...|[0.21544715447154...|       1.0|\n",
            "|(9,[0,1,2,7],[1.0...|        3.0|[84.0,396.0,273.0...|[0.07041072925398...|       3.0|\n",
            "|(9,[0,1,2,7],[1.0...|        2.0|[84.0,396.0,273.0...|[0.07041072925398...|       3.0|\n",
            "|(9,[0,1,2,7],[1.0...|        3.0|[84.0,396.0,273.0...|[0.07041072925398...|       3.0|\n",
            "|(9,[0,1,2,7],[1.0...|        1.0|[84.0,396.0,273.0...|[0.07041072925398...|       3.0|\n",
            "|(9,[0,1,2,7],[1.0...|        3.0|[84.0,396.0,273.0...|[0.07041072925398...|       3.0|\n",
            "|(9,[0,1,2,7],[1.0...|        3.0|[84.0,396.0,273.0...|[0.07041072925398...|       3.0|\n",
            "|(9,[0,1,2,7],[1.0...|        3.0|[84.0,396.0,273.0...|[0.07041072925398...|       3.0|\n",
            "|(9,[0,1,2,7],[1.0...|        2.0|[84.0,396.0,273.0...|[0.07041072925398...|       3.0|\n",
            "|(9,[0,1,2,7],[1.0...|        2.0|[84.0,396.0,273.0...|[0.07041072925398...|       3.0|\n",
            "|(9,[0,1,2,7],[1.0...|        3.0|[84.0,396.0,273.0...|[0.07041072925398...|       3.0|\n",
            "|(9,[0,2],[1.0,51.0])|        1.0|[84.0,396.0,273.0...|[0.07041072925398...|       3.0|\n",
            "|(9,[0,2,3,4],[1.0...|        0.0|[116.0,41.0,15.0,...|[0.62702702702702...|       0.0|\n",
            "|(9,[0,2,3,7],[1.0...|        1.0|[53.0,115.0,35.0,...|[0.21544715447154...|       1.0|\n",
            "+--------------------+-----------+--------------------+--------------------+----------+\n",
            "only showing top 20 rows\n",
            "\n"
          ]
        }
      ]
    },
    {
      "cell_type": "code",
      "source": [
        "predictions.select(\"feature\",\"index_label\",\"prediction\").show(5)"
      ],
      "metadata": {
        "id": "BrFq5prtzl0g"
      },
      "execution_count": null,
      "outputs": []
    },
    {
      "cell_type": "code",
      "source": [
        "from pyspark.ml.evaluation import MulticlassClassificationEvaluator\n",
        "evaluator = MulticlassClassificationEvaluator(\n",
        "labelCol=\"index_label\", predictionCol=\"prediction\", metricName=\"accuracy\")\n",
        "accuracy = evaluator.evaluate(predictions)\n",
        "print(\"Test Error = %g\" % (1.0 - accuracy))"
      ],
      "metadata": {
        "colab": {
          "base_uri": "https://localhost:8080/"
        },
        "id": "xUVSd473yb7j",
        "outputId": "8f1fe292-5846-4c8c-9b63-6f97e8dd9541"
      },
      "execution_count": 78,
      "outputs": [
        {
          "output_type": "stream",
          "name": "stdout",
          "text": [
            "Test Error = 0.487774\n"
          ]
        }
      ]
    },
    {
      "cell_type": "code",
      "source": [
        "class_temp = predictions.select(\"index_label\").groupBy(\"index_label\").count().sort('count', ascending=False).toPandas()\n",
        "\n",
        "class_temp = class_temp[\"index_label\"].values.tolist()\n",
        "class_names = list(map(str, class_temp))\n",
        "print(class_names)"
      ],
      "metadata": {
        "colab": {
          "base_uri": "https://localhost:8080/"
        },
        "id": "7sj8uNSszNK_",
        "outputId": "7705fb2e-9171-48bb-e684-84e4d5efe7e2"
      },
      "execution_count": 87,
      "outputs": [
        {
          "output_type": "stream",
          "name": "stdout",
          "text": [
            "['0.0', '1.0', '2.0', '3.0']\n"
          ]
        }
      ]
    },
    {
      "cell_type": "code",
      "source": [
        "import matplotlib.pyplot as plt\n",
        "import numpy as np\n",
        "import itertools\n",
        "def plot_confusion_matrix(cm, classes,normalize=False,title='Confusion matrix',cmap=plt.cm.Blues):\n",
        "\n",
        "  if normalize:\n",
        "    cm = cm.astype('float') / cm.sum(axis=1)[:, np.newaxis]\n",
        "    print(\"Normalized confusion matrix\")\n",
        "  else:\n",
        "    print('Confusion matrix, without normalization')\n",
        "  print(cm)\n",
        "  plt.imshow(cm, interpolation='nearest', cmap=cmap)\n",
        "  plt.title(title)\n",
        "  plt.colorbar()\n",
        "  tick_marks = np.arange(len(classes))\n",
        "  plt.xticks(tick_marks, classes, rotation=45)\n",
        "  plt.yticks(tick_marks, classes)\n",
        "  fmt = '.2f' if normalize else 'd'\n",
        "  thresh = cm.max() / 2.\n",
        "  for i, j in itertools.product(range(cm.shape[0]), range(cm.shape[1])):\n",
        "    plt.text(j, i, format(cm[i, j], fmt),\n",
        "      horizontalalignment=\"center\",\n",
        "      color=\"white\" if cm[i, j] > thresh else \"black\")\n",
        "\n",
        "  plt.tight_layout()\n",
        "  plt.ylabel('True label')\n",
        "  plt.xlabel('Predicted label')"
      ],
      "metadata": {
        "id": "wd4cBbRc1cXL"
      },
      "execution_count": 90,
      "outputs": []
    },
    {
      "cell_type": "code",
      "source": [
        "from sklearn.metrics import confusion_matrix\n",
        "\n",
        "y_true = predictions.select(\"index_label\").toPandas()\n",
        "y_pred = predictions.select(\"prediction\").toPandas()\n",
        "\n",
        "y_true = y_true[\"index_label\"].astype(int)\n",
        "y_pred = y_pred[\"prediction\"].astype(int)\n",
        "\n",
        "cnf_matrix = confusion_matrix(y_true, y_pred, labels=class_temp)\n",
        "print(cnf_matrix)"
      ],
      "metadata": {
        "colab": {
          "base_uri": "https://localhost:8080/"
        },
        "id": "5_vL_TXqy0Hk",
        "outputId": "6c61d4cb-4ded-439b-999b-22d98f5d3a7b"
      },
      "execution_count": 91,
      "outputs": [
        {
          "output_type": "stream",
          "name": "stdout",
          "text": [
            "[[319  79   6  41]\n",
            " [ 84 133  23 147]\n",
            " [ 66  23 182 111]\n",
            " [ 58  58  82 183]]\n"
          ]
        }
      ]
    },
    {
      "cell_type": "code",
      "source": [
        "plt.figure()\n",
        "plot_confusion_matrix(cnf_matrix, classes=class_names,\n",
        "\n",
        "title='Confusion matrix, without normalization')\n",
        "\n",
        "plt.show()"
      ],
      "metadata": {
        "colab": {
          "base_uri": "https://localhost:8080/",
          "height": 593
        },
        "id": "8MPE5FlrzslU",
        "outputId": "3d486abb-49d8-4b1f-a562-abbbc5868df4"
      },
      "execution_count": 92,
      "outputs": [
        {
          "output_type": "stream",
          "name": "stdout",
          "text": [
            "Confusion matrix, without normalization\n",
            "[[319  79   6  41]\n",
            " [ 84 133  23 147]\n",
            " [ 66  23 182 111]\n",
            " [ 58  58  82 183]]\n"
          ]
        },
        {
          "output_type": "display_data",
          "data": {
            "text/plain": [
              "<Figure size 640x480 with 2 Axes>"
            ],
            "image/png": "[encoded data removed]"
          },
          "metadata": {}
        }
      ]
    },
    {
      "cell_type": "code",
      "source": [
        "plt.figure()\n",
        "plot_confusion_matrix(cnf_matrix, classes=class_names, normalize=True,\n",
        "\n",
        "title='Normalized confusion matrix')\n",
        "\n",
        "plt.show()"
      ],
      "metadata": {
        "colab": {
          "base_uri": "https://localhost:8080/",
          "height": 593
        },
        "id": "Q4ZzVFc-1rhH",
        "outputId": "0c858a3c-8f3b-4732-8191-597efc2b8d4b"
      },
      "execution_count": 93,
      "outputs": [
        {
          "output_type": "stream",
          "name": "stdout",
          "text": [
            "Normalized confusion matrix\n",
            "[[0.71685393 0.17752809 0.01348315 0.09213483]\n",
            " [0.21705426 0.34366925 0.05943152 0.37984496]\n",
            " [0.17277487 0.06020942 0.47643979 0.29057592]\n",
            " [0.15223097 0.15223097 0.2152231  0.48031496]]\n"
          ]
        },
        {
          "output_type": "display_data",
          "data": {
            "text/plain": [
              "<Figure size 640x480 with 2 Axes>"
            ],
            "image/png": "[encoded data removed]"
          },
          "metadata": {}
        }
      ]
    },
    {
      "cell_type": "code",
      "source": [],
      "metadata": {
        "id": "3trXAFs31vUR"
      },
      "execution_count": null,
      "outputs": []
    }
  ]
}